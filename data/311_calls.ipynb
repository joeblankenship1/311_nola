{
 "cells": [
  {
   "cell_type": "markdown",
   "metadata": {},
   "source": [
    "# City of New Orleans' 311 Call Center Data"
   ]
  },
  {
   "cell_type": "code",
   "execution_count": 1,
   "metadata": {},
   "outputs": [],
   "source": [
    "# import pandas... obviously\n",
    "import pandas as pd"
   ]
  },
  {
   "cell_type": "markdown",
   "metadata": {},
   "source": [
    "## Import Data"
   ]
  },
  {
   "cell_type": "code",
   "execution_count": 2,
   "metadata": {},
   "outputs": [],
   "source": [
    "# read in our raw CSV to DataFrame\n",
    "calls = pd.read_csv(\"311_Calls__2012-Present_.csv\")"
   ]
  },
  {
   "cell_type": "code",
   "execution_count": 3,
   "metadata": {},
   "outputs": [
    {
     "data": {
      "text/html": [
       "<div>\n",
       "<style scoped>\n",
       "    .dataframe tbody tr th:only-of-type {\n",
       "        vertical-align: middle;\n",
       "    }\n",
       "\n",
       "    .dataframe tbody tr th {\n",
       "        vertical-align: top;\n",
       "    }\n",
       "\n",
       "    .dataframe thead th {\n",
       "        text-align: right;\n",
       "    }\n",
       "</style>\n",
       "<table border=\"1\" class=\"dataframe\">\n",
       "  <thead>\n",
       "    <tr style=\"text-align: right;\">\n",
       "      <th></th>\n",
       "      <th>ticket_id</th>\n",
       "      <th>issue_type</th>\n",
       "      <th>ticket_created_date_time</th>\n",
       "      <th>ticket_closed_date_time</th>\n",
       "      <th>ticket_status</th>\n",
       "      <th>issue_description</th>\n",
       "      <th>street_address</th>\n",
       "      <th>neighborhood_district</th>\n",
       "      <th>council_district</th>\n",
       "      <th>city</th>\n",
       "      <th>state</th>\n",
       "      <th>zip_code</th>\n",
       "      <th>location</th>\n",
       "      <th>geom</th>\n",
       "      <th>latitude</th>\n",
       "      <th>longitude</th>\n",
       "    </tr>\n",
       "  </thead>\n",
       "  <tbody>\n",
       "    <tr>\n",
       "      <th>0</th>\n",
       "      <td>101000514635</td>\n",
       "      <td>Illegal Dumping Reporting</td>\n",
       "      <td>03/08/2016 11:33:41 AM</td>\n",
       "      <td>05/16/2016 11:41:40 AM</td>\n",
       "      <td>Closed</td>\n",
       "      <td>Tires: No | Ch 66: No | Details of items dumpe...</td>\n",
       "      <td>BUCHANAN ST &amp; MILTON ST</td>\n",
       "      <td>ST. BERNARD AREA</td>\n",
       "      <td>D</td>\n",
       "      <td>NEW ORLEANS</td>\n",
       "      <td>LA</td>\n",
       "      <td>70122.0</td>\n",
       "      <td>(29.9956186639096, -90.0805943549403)</td>\n",
       "      <td>NaN</td>\n",
       "      <td>29.995619</td>\n",
       "      <td>-90.080594</td>\n",
       "    </tr>\n",
       "    <tr>\n",
       "      <th>1</th>\n",
       "      <td>101000214475</td>\n",
       "      <td>Tree Service</td>\n",
       "      <td>01/02/2014 02:43:17 PM</td>\n",
       "      <td>03/10/2015 09:27:54 AM</td>\n",
       "      <td>Closed</td>\n",
       "      <td>| Type of Tree: OAK | Branches Hanging: Yes | ...</td>\n",
       "      <td>920 WILSON DR</td>\n",
       "      <td>CITY PARK</td>\n",
       "      <td>A</td>\n",
       "      <td>NEW ORLEANS</td>\n",
       "      <td>LA</td>\n",
       "      <td>70119.0</td>\n",
       "      <td>(29.9790729872945, -90.0909666218954)</td>\n",
       "      <td>NaN</td>\n",
       "      <td>29.979073</td>\n",
       "      <td>-90.090967</td>\n",
       "    </tr>\n",
       "    <tr>\n",
       "      <th>2</th>\n",
       "      <td>101000048763</td>\n",
       "      <td>Code Enforcement General Request</td>\n",
       "      <td>09/04/2012 03:09:52 PM</td>\n",
       "      <td>09/18/2012 11:40:18 AM</td>\n",
       "      <td>Closed</td>\n",
       "      <td>| Unoccupied: Yes | Partly Collapsed: Yes | Tr...</td>\n",
       "      <td>S ALEXANDER ST &amp; CANAL ST</td>\n",
       "      <td>MID-CITY</td>\n",
       "      <td>A</td>\n",
       "      <td>NEW ORLEANS</td>\n",
       "      <td>LA</td>\n",
       "      <td>70119.0</td>\n",
       "      <td>(29.9768313625105, -90.1041916433695)</td>\n",
       "      <td>NaN</td>\n",
       "      <td>29.976831</td>\n",
       "      <td>-90.104192</td>\n",
       "    </tr>\n",
       "    <tr>\n",
       "      <th>3</th>\n",
       "      <td>101000593621</td>\n",
       "      <td>Pothole/Roadway Surface Repair</td>\n",
       "      <td>09/14/2016 09:43:00 AM</td>\n",
       "      <td>09/14/2016 10:05:02 AM</td>\n",
       "      <td>Closed</td>\n",
       "      <td>Street area affected: Travel Lane / Roadway | ...</td>\n",
       "      <td>2900 Dublin St</td>\n",
       "      <td>LEONIDAS</td>\n",
       "      <td>A</td>\n",
       "      <td>NEW ORLEANS</td>\n",
       "      <td>LA</td>\n",
       "      <td>70118.0</td>\n",
       "      <td>(29.9605592973973, -90.1174956731646)</td>\n",
       "      <td>NaN</td>\n",
       "      <td>29.960559</td>\n",
       "      <td>-90.117496</td>\n",
       "    </tr>\n",
       "    <tr>\n",
       "      <th>4</th>\n",
       "      <td>101000751465</td>\n",
       "      <td>Code Enforcement General Request</td>\n",
       "      <td>11/17/2017 02:18:00 PM</td>\n",
       "      <td>11/17/2017 03:30:05 PM</td>\n",
       "      <td>Closed</td>\n",
       "      <td>| Unoccupied: Yes | Trash/Debris: Yes | Rats/R...</td>\n",
       "      <td>7110 Downman Rd</td>\n",
       "      <td>PINES VILLAGE</td>\n",
       "      <td>D</td>\n",
       "      <td>NEW ORLEANS</td>\n",
       "      <td>LA</td>\n",
       "      <td>70126.0</td>\n",
       "      <td>(30.023804279566, -90.0240518258462)</td>\n",
       "      <td>NaN</td>\n",
       "      <td>30.023804</td>\n",
       "      <td>-90.024052</td>\n",
       "    </tr>\n",
       "  </tbody>\n",
       "</table>\n",
       "</div>"
      ],
      "text/plain": [
       "      ticket_id                        issue_type ticket_created_date_time  \\\n",
       "0  101000514635         Illegal Dumping Reporting   03/08/2016 11:33:41 AM   \n",
       "1  101000214475                      Tree Service   01/02/2014 02:43:17 PM   \n",
       "2  101000048763  Code Enforcement General Request   09/04/2012 03:09:52 PM   \n",
       "3  101000593621    Pothole/Roadway Surface Repair   09/14/2016 09:43:00 AM   \n",
       "4  101000751465  Code Enforcement General Request   11/17/2017 02:18:00 PM   \n",
       "\n",
       "  ticket_closed_date_time ticket_status  \\\n",
       "0  05/16/2016 11:41:40 AM        Closed   \n",
       "1  03/10/2015 09:27:54 AM        Closed   \n",
       "2  09/18/2012 11:40:18 AM        Closed   \n",
       "3  09/14/2016 10:05:02 AM        Closed   \n",
       "4  11/17/2017 03:30:05 PM        Closed   \n",
       "\n",
       "                                   issue_description  \\\n",
       "0  Tires: No | Ch 66: No | Details of items dumpe...   \n",
       "1  | Type of Tree: OAK | Branches Hanging: Yes | ...   \n",
       "2  | Unoccupied: Yes | Partly Collapsed: Yes | Tr...   \n",
       "3  Street area affected: Travel Lane / Roadway | ...   \n",
       "4  | Unoccupied: Yes | Trash/Debris: Yes | Rats/R...   \n",
       "\n",
       "              street_address neighborhood_district council_district  \\\n",
       "0    BUCHANAN ST & MILTON ST      ST. BERNARD AREA                D   \n",
       "1              920 WILSON DR             CITY PARK                A   \n",
       "2  S ALEXANDER ST & CANAL ST              MID-CITY                A   \n",
       "3             2900 Dublin St              LEONIDAS                A   \n",
       "4            7110 Downman Rd         PINES VILLAGE                D   \n",
       "\n",
       "          city state  zip_code                               location  geom  \\\n",
       "0  NEW ORLEANS    LA   70122.0  (29.9956186639096, -90.0805943549403)   NaN   \n",
       "1  NEW ORLEANS    LA   70119.0  (29.9790729872945, -90.0909666218954)   NaN   \n",
       "2  NEW ORLEANS    LA   70119.0  (29.9768313625105, -90.1041916433695)   NaN   \n",
       "3  NEW ORLEANS    LA   70118.0  (29.9605592973973, -90.1174956731646)   NaN   \n",
       "4  NEW ORLEANS    LA   70126.0   (30.023804279566, -90.0240518258462)   NaN   \n",
       "\n",
       "    latitude  longitude  \n",
       "0  29.995619 -90.080594  \n",
       "1  29.979073 -90.090967  \n",
       "2  29.976831 -90.104192  \n",
       "3  29.960559 -90.117496  \n",
       "4  30.023804 -90.024052  "
      ]
     },
     "execution_count": 3,
     "metadata": {},
     "output_type": "execute_result"
    }
   ],
   "source": [
    "# examine the first 5 rows\n",
    "calls.head()"
   ]
  },
  {
   "cell_type": "markdown",
   "metadata": {},
   "source": [
    "## Remove non-geocoded rows"
   ]
  },
  {
   "cell_type": "code",
   "execution_count": 4,
   "metadata": {},
   "outputs": [
    {
     "data": {
      "text/plain": [
       "263782"
      ]
     },
     "execution_count": 4,
     "metadata": {},
     "output_type": "execute_result"
    }
   ],
   "source": [
    "# get the number of rows in our DataFrame\n",
    "len(calls)"
   ]
  },
  {
   "cell_type": "code",
   "execution_count": 5,
   "metadata": {},
   "outputs": [
    {
     "data": {
      "text/plain": [
       "102550"
      ]
     },
     "execution_count": 5,
     "metadata": {},
     "output_type": "execute_result"
    }
   ],
   "source": [
    "# get the count of unique locations\n",
    "len(calls.location.unique())"
   ]
  },
  {
   "cell_type": "code",
   "execution_count": 6,
   "metadata": {},
   "outputs": [],
   "source": [
    "# create a new DataFrame from calls where the location below removed\n",
    "calls_nocontact = calls[calls.location != '(530187.70942, 3678691.8167)']"
   ]
  },
  {
   "cell_type": "code",
   "execution_count": 7,
   "metadata": {},
   "outputs": [
    {
     "data": {
      "text/plain": [
       "251139"
      ]
     },
     "execution_count": 7,
     "metadata": {},
     "output_type": "execute_result"
    }
   ],
   "source": [
    "# check the number of rows in our new DataFrame\n",
    "len(calls_nocontact)"
   ]
  },
  {
   "cell_type": "code",
   "execution_count": 8,
   "metadata": {},
   "outputs": [
    {
     "data": {
      "text/plain": [
       "102549"
      ]
     },
     "execution_count": 8,
     "metadata": {},
     "output_type": "execute_result"
    }
   ],
   "source": [
    "# check the number of unique locations\n",
    "# should be 1 less than the calls DataFrame\n",
    "len(calls_nocontact.location.unique())"
   ]
  },
  {
   "cell_type": "markdown",
   "metadata": {},
   "source": [
    "## Examine columns for analysis"
   ]
  },
  {
   "cell_type": "code",
   "execution_count": 9,
   "metadata": {},
   "outputs": [
    {
     "data": {
      "text/plain": [
       "Code Enforcement General Request       38499\n",
       "Street Light                           33502\n",
       "Trash/Garbage Pickup                   30632\n",
       "Abandoned Vehicle Reporting/Removal    26225\n",
       "Residential Recycling Programs         24166\n",
       "Large Item Trash/Garbage Pickup        20144\n",
       "Pothole/Roadway Surface Repair         15289\n",
       "Illegal Dumping Reporting              10181\n",
       "Street Flooding/Drainage                8993\n",
       "Catch Basin Maintenance                 7465\n",
       "Tree Service                            7119\n",
       "Traffic Sign                            3995\n",
       "Traffic Signal                          3789\n",
       "Rodent Complaint                        3374\n",
       "Sidewalk Repair                         2769\n",
       "Subsidence                              2477\n",
       "Mosquito Control                        2177\n",
       "Tree Service Emergency                  2149\n",
       "Dead Animal Pickup                      1365\n",
       "Street Name Sign                        1352\n",
       "Tree Maintenance                        1206\n",
       "Manhole Cover Maintenance               1034\n",
       "Road Shoulder Repair                     893\n",
       "Grass Service                            707\n",
       "Road Surface Marking                     431\n",
       "General Service Request                  389\n",
       "Non Rodent Complaint                     345\n",
       "Curb Repair                              205\n",
       "Park Maintenance                         169\n",
       "Occupancy Inspection                      80\n",
       "NORDC Park Maintenance                     9\n",
       "NORDC Park Complaint                       6\n",
       "NORDC Grass Service                        3\n",
       "Name: issue_type, dtype: int64"
      ]
     },
     "execution_count": 9,
     "metadata": {},
     "output_type": "execute_result"
    }
   ],
   "source": [
    "# display the unique values with counts for issue_type\n",
    "calls_nocontact.issue_type.value_counts()"
   ]
  },
  {
   "cell_type": "code",
   "execution_count": 10,
   "metadata": {},
   "outputs": [
    {
     "data": {
      "text/plain": [
       "Closed    229740\n",
       "Open       21399\n",
       "Name: ticket_status, dtype: int64"
      ]
     },
     "execution_count": 10,
     "metadata": {},
     "output_type": "execute_result"
    }
   ],
   "source": [
    "# Display unique values with counts for ticket_status\n",
    "calls_nocontact.ticket_status.value_counts()"
   ]
  },
  {
   "cell_type": "code",
   "execution_count": 11,
   "metadata": {},
   "outputs": [
    {
     "data": {
      "text/plain": [
       "LITTLE WOODS                  13954\n",
       "MID-CITY                      10590\n",
       "SEVENTH WARD                   9609\n",
       "CENTRAL CITY                   9199\n",
       "AUDUBON                        8750\n",
       "ST. ROCH                       7529\n",
       "ST. CLAUDE                     7351\n",
       "LAKEVIEW                       7320\n",
       "OLD AURORA                     7065\n",
       "GENTILLY TERRACE               5871\n",
       "LEONIDAS                       5817\n",
       "LOWER NINTH WARD               5592\n",
       "TREME - LAFITTE                5085\n",
       "UPTOWN                         4852\n",
       "BROADMOOR                      4627\n",
       "MILAN                          4424\n",
       "CENTRAL BUSINESS DISTRICT      4411\n",
       "HOLLYGROVE                     4399\n",
       "READ BLVD EAST                 4024\n",
       "LOWER GARDEN DISTRICT          3979\n",
       "FILLMORE                       3941\n",
       "BEHRMAN                        3928\n",
       "TALL TIMBERS - BRECHTEL        3772\n",
       "FAIRGROUNDS                    3724\n",
       "WEST RIVERSIDE                 3607\n",
       "MARLYVILLE - FONTAINBLEAU      3525\n",
       "FRENCH QUARTER                 3379\n",
       "DILLARD                        3371\n",
       "BYWATER                        3360\n",
       "MILNEBURG                      3261\n",
       "                              ...  \n",
       "FLORIDA AREA                   2207\n",
       "EAST RIVERSIDE                 2200\n",
       "LAKESHORE - LAKE VISTA         2193\n",
       "NAVARRE                        2166\n",
       "NEW AURORA - ENGLISH TURN      2158\n",
       "TOURO                          2006\n",
       "GENTILLY WOODS                 1856\n",
       "PONTCHARTRAIN PARK             1780\n",
       "McDONOGH                       1756\n",
       "FRERET                         1722\n",
       "ALGIERS POINT                  1721\n",
       "GARDEN DISTRICT                1526\n",
       "WHITNEY                        1389\n",
       "LAKEWOOD                       1347\n",
       "DIXON                          1301\n",
       "BLACK PEARL                    1144\n",
       "LAKE TERRACE & OAKS            1139\n",
       "ST. BERNARD AREA               1080\n",
       "U.S. NAVAL BASE                 898\n",
       "FILMORE                         848\n",
       "VIAVANT                         779\n",
       "ST. THOMAS DEV                  763\n",
       "MARLYVILLE - FONTAINEBLEAU      705\n",
       "LAKE CATHERINE                  528\n",
       "VIAVANT - VENETIAN ISLES        491\n",
       "B. W. COOPER                    436\n",
       "FISCHER DEV                     306\n",
       "DESIRE DEV                      145\n",
       "IBERVILLE                        69\n",
       "FLORIDA DEV                      36\n",
       "Name: neighborhood_district, Length: 76, dtype: int64"
      ]
     },
     "execution_count": 11,
     "metadata": {},
     "output_type": "execute_result"
    }
   ],
   "source": [
    "# display unique values with counts for neighborhood_district\n",
    "calls_nocontact.neighborhood_district.value_counts()"
   ]
  },
  {
   "cell_type": "code",
   "execution_count": 12,
   "metadata": {},
   "outputs": [
    {
     "data": {
      "text/plain": [
       "MORRISON RD & GANNON RD                         73\n",
       "DESIRE PKWY & CHEF MENTEUR HWY                  71\n",
       "1300 PERDIDO ST                                 70\n",
       "BULLARD AVE & LAKE FOREST BLVD                  66\n",
       "TULLIS DR & LENNOX BLVD                         61\n",
       "ST CHARLES AVE & STATE ST                       59\n",
       "BEHRMAN HWY & TULLIS DR                         57\n",
       "MARTIN LUTHER KING JR BLVD & S CLAIBORNE AVE    53\n",
       "WASHINGTON AVE & PRYTANIA ST                    49\n",
       "LEON C SIMON DR & FRANKLIN AVE                  48\n",
       "CHEF MENTEUR HWY & LOUISA ST                    48\n",
       "EXPEDITION DR & MICHOUD BLVD                    44\n",
       "CHEF MENTEUR HWY & INDUSTRIAL PKWY              44\n",
       "FLORENCE AVE & DE ARMAS ST                      43\n",
       "MORRISON RD & PARIS RD                          43\n",
       "MARCONI DR & FILMORE AVE                        42\n",
       "I 10 E & MORRISON EXIT                          41\n",
       "GENERAL DE GAULLE DR & HOLIDAY DR               41\n",
       "MICHOUD BLVD & W CAVELIER DR                    40\n",
       "HOLIDAY DR & GENERAL DE GAULLE DR               40\n",
       "I 10 E SERVICE RD & BULLARD AVE                 38\n",
       "PRESS DR & LEON C SIMON DR                      38\n",
       "LAKE FOREST BLVD & BUNDY RD                     38\n",
       "WISNER BLVD & FILMORE AVE                       37\n",
       "WISNER BLVD & DESAIX BLVD                       37\n",
       "N CLAIBORNE AVE & POLAND AVE                    37\n",
       "MOSS ST & ESPLANADE AVE                         37\n",
       "GRAVIER ST & CARONDELET ST                      36\n",
       "ST CLAUDE AVE & ELYSIAN FIELDS AVE              36\n",
       "FELICITY ST & ST CHARLES AVE                    33\n",
       "                                                ..\n",
       "2223 Milan St                                    1\n",
       "1304 St Roch Ave                                 1\n",
       "8701 COHN ST                                     1\n",
       "5510 Rickert Dr                                  1\n",
       "4705 URQUHART ST                                 1\n",
       "2933 St Philip St                                1\n",
       "821 JACKSON AVE                                  1\n",
       "2914 MAUREPAS ST                                 1\n",
       "5323 Memphis St                                  1\n",
       "6221 MARIGNY ST                                  1\n",
       "1106 Napoleon Ave                                1\n",
       "756 CITY PARK AVE                                1\n",
       "2309 Prentiss Ave                                1\n",
       "522 S St Patrick St                              1\n",
       "524 WARRINGTON DR                                1\n",
       "1106 CRETE ST                                    1\n",
       "3820 Blair St                                    1\n",
       "1319 S DORGENOIS ST                              1\n",
       "1108 Treme St                                    1\n",
       "2752 Orleans Ave                                 1\n",
       "7040 Crowder Blvd                                1\n",
       "629 Lamanche St                                  1\n",
       "2519 URSULINES AVE                               1\n",
       "1815 Martin Luther King, Jr. Blvd                1\n",
       "4667 Camelot Dr                                  1\n",
       "BELLAIRE DR & W KENILWORTH ST                    1\n",
       "818 SLIDELL ST                                   1\n",
       "2822 BANKS ST                                    1\n",
       "3700 ROYAL ST                                    1\n",
       "5401S Claiborne                                  1\n",
       "Name: street_address, Length: 130545, dtype: int64"
      ]
     },
     "execution_count": 12,
     "metadata": {},
     "output_type": "execute_result"
    }
   ],
   "source": [
    "# display unique values with counts for street_address\n",
    "calls_nocontact.street_address.value_counts()"
   ]
  },
  {
   "cell_type": "code",
   "execution_count": 13,
   "metadata": {},
   "outputs": [
    {
     "data": {
      "text/plain": [
       "70119.0    28828\n",
       "70117.0    28258\n",
       "70115.0    25454\n",
       "70122.0    24200\n",
       "70118.0    23388\n",
       "70126.0    16740\n",
       "70124.0    16085\n",
       "70125.0    12235\n",
       "70114.0    11600\n",
       "70116.0    11381\n",
       "70131.0    11381\n",
       "70127.0    11024\n",
       "70130.0    10265\n",
       "70128.0     7836\n",
       "70113.0     5675\n",
       "70129.0     3506\n",
       "70112.0     3184\n",
       "70005.0       31\n",
       "70163.0       26\n",
       "70001.0        8\n",
       "70139.0        6\n",
       "70037.0        4\n",
       "70121.0        2\n",
       "70053.0        1\n",
       "Name: zip_code, dtype: int64"
      ]
     },
     "execution_count": 13,
     "metadata": {},
     "output_type": "execute_result"
    }
   ],
   "source": [
    "# display unique values with counts for zip_code\n",
    "calls_nocontact.zip_code.value_counts()"
   ]
  },
  {
   "cell_type": "code",
   "execution_count": 14,
   "metadata": {},
   "outputs": [
    {
     "data": {
      "text/plain": [
       "D    59390\n",
       "A    57035\n",
       "B    55550\n",
       "C    40899\n",
       "E    38255\n",
       "Name: council_district, dtype: int64"
      ]
     },
     "execution_count": 14,
     "metadata": {},
     "output_type": "execute_result"
    }
   ],
   "source": [
    "# display unique values with counts for council_district\n",
    "calls_nocontact.council_district.value_counts()"
   ]
  },
  {
   "cell_type": "markdown",
   "metadata": {},
   "source": [
    "## Create new dataframe with selected columns"
   ]
  },
  {
   "cell_type": "code",
   "execution_count": 15,
   "metadata": {},
   "outputs": [
    {
     "data": {
      "text/html": [
       "<div>\n",
       "<style scoped>\n",
       "    .dataframe tbody tr th:only-of-type {\n",
       "        vertical-align: middle;\n",
       "    }\n",
       "\n",
       "    .dataframe tbody tr th {\n",
       "        vertical-align: top;\n",
       "    }\n",
       "\n",
       "    .dataframe thead th {\n",
       "        text-align: right;\n",
       "    }\n",
       "</style>\n",
       "<table border=\"1\" class=\"dataframe\">\n",
       "  <thead>\n",
       "    <tr style=\"text-align: right;\">\n",
       "      <th></th>\n",
       "      <th>issue_type</th>\n",
       "      <th>ticket_created_date_time</th>\n",
       "      <th>ticket_closed_date_time</th>\n",
       "      <th>ticket_status</th>\n",
       "      <th>street_address</th>\n",
       "      <th>neighborhood_district</th>\n",
       "      <th>council_district</th>\n",
       "      <th>zip_code</th>\n",
       "      <th>latitude</th>\n",
       "      <th>longitude</th>\n",
       "    </tr>\n",
       "  </thead>\n",
       "  <tbody>\n",
       "    <tr>\n",
       "      <th>0</th>\n",
       "      <td>Illegal Dumping Reporting</td>\n",
       "      <td>03/08/2016 11:33:41 AM</td>\n",
       "      <td>05/16/2016 11:41:40 AM</td>\n",
       "      <td>Closed</td>\n",
       "      <td>BUCHANAN ST &amp; MILTON ST</td>\n",
       "      <td>ST. BERNARD AREA</td>\n",
       "      <td>D</td>\n",
       "      <td>70122.0</td>\n",
       "      <td>29.995619</td>\n",
       "      <td>-90.080594</td>\n",
       "    </tr>\n",
       "    <tr>\n",
       "      <th>1</th>\n",
       "      <td>Tree Service</td>\n",
       "      <td>01/02/2014 02:43:17 PM</td>\n",
       "      <td>03/10/2015 09:27:54 AM</td>\n",
       "      <td>Closed</td>\n",
       "      <td>920 WILSON DR</td>\n",
       "      <td>CITY PARK</td>\n",
       "      <td>A</td>\n",
       "      <td>70119.0</td>\n",
       "      <td>29.979073</td>\n",
       "      <td>-90.090967</td>\n",
       "    </tr>\n",
       "    <tr>\n",
       "      <th>2</th>\n",
       "      <td>Code Enforcement General Request</td>\n",
       "      <td>09/04/2012 03:09:52 PM</td>\n",
       "      <td>09/18/2012 11:40:18 AM</td>\n",
       "      <td>Closed</td>\n",
       "      <td>S ALEXANDER ST &amp; CANAL ST</td>\n",
       "      <td>MID-CITY</td>\n",
       "      <td>A</td>\n",
       "      <td>70119.0</td>\n",
       "      <td>29.976831</td>\n",
       "      <td>-90.104192</td>\n",
       "    </tr>\n",
       "    <tr>\n",
       "      <th>3</th>\n",
       "      <td>Pothole/Roadway Surface Repair</td>\n",
       "      <td>09/14/2016 09:43:00 AM</td>\n",
       "      <td>09/14/2016 10:05:02 AM</td>\n",
       "      <td>Closed</td>\n",
       "      <td>2900 Dublin St</td>\n",
       "      <td>LEONIDAS</td>\n",
       "      <td>A</td>\n",
       "      <td>70118.0</td>\n",
       "      <td>29.960559</td>\n",
       "      <td>-90.117496</td>\n",
       "    </tr>\n",
       "    <tr>\n",
       "      <th>4</th>\n",
       "      <td>Code Enforcement General Request</td>\n",
       "      <td>11/17/2017 02:18:00 PM</td>\n",
       "      <td>11/17/2017 03:30:05 PM</td>\n",
       "      <td>Closed</td>\n",
       "      <td>7110 Downman Rd</td>\n",
       "      <td>PINES VILLAGE</td>\n",
       "      <td>D</td>\n",
       "      <td>70126.0</td>\n",
       "      <td>30.023804</td>\n",
       "      <td>-90.024052</td>\n",
       "    </tr>\n",
       "  </tbody>\n",
       "</table>\n",
       "</div>"
      ],
      "text/plain": [
       "                         issue_type ticket_created_date_time  \\\n",
       "0         Illegal Dumping Reporting   03/08/2016 11:33:41 AM   \n",
       "1                      Tree Service   01/02/2014 02:43:17 PM   \n",
       "2  Code Enforcement General Request   09/04/2012 03:09:52 PM   \n",
       "3    Pothole/Roadway Surface Repair   09/14/2016 09:43:00 AM   \n",
       "4  Code Enforcement General Request   11/17/2017 02:18:00 PM   \n",
       "\n",
       "  ticket_closed_date_time ticket_status             street_address  \\\n",
       "0  05/16/2016 11:41:40 AM        Closed    BUCHANAN ST & MILTON ST   \n",
       "1  03/10/2015 09:27:54 AM        Closed              920 WILSON DR   \n",
       "2  09/18/2012 11:40:18 AM        Closed  S ALEXANDER ST & CANAL ST   \n",
       "3  09/14/2016 10:05:02 AM        Closed             2900 Dublin St   \n",
       "4  11/17/2017 03:30:05 PM        Closed            7110 Downman Rd   \n",
       "\n",
       "  neighborhood_district council_district  zip_code   latitude  longitude  \n",
       "0      ST. BERNARD AREA                D   70122.0  29.995619 -90.080594  \n",
       "1             CITY PARK                A   70119.0  29.979073 -90.090967  \n",
       "2              MID-CITY                A   70119.0  29.976831 -90.104192  \n",
       "3              LEONIDAS                A   70118.0  29.960559 -90.117496  \n",
       "4         PINES VILLAGE                D   70126.0  30.023804 -90.024052  "
      ]
     },
     "execution_count": 15,
     "metadata": {},
     "output_type": "execute_result"
    }
   ],
   "source": [
    "# create a new DataFrame\n",
    "# drop columns we don't plan to use to reduce the overall DataFrame size\n",
    "calls_nocontact_simp = calls_nocontact.drop(columns=['ticket_id', 'issue_description', 'city', 'state', 'location', 'geom'])\n",
    "calls_nocontact_simp.head()"
   ]
  },
  {
   "cell_type": "markdown",
   "metadata": {},
   "source": [
    "## Select only 2017 events"
   ]
  },
  {
   "cell_type": "code",
   "execution_count": 16,
   "metadata": {},
   "outputs": [],
   "source": [
    "# convert ticket_closed_date_time to a pd.datetime field\n",
    "calls_nocontact_simp['ticket_closed_date_time'] = pd.to_datetime(calls_nocontact_simp['ticket_closed_date_time'])"
   ]
  },
  {
   "cell_type": "code",
   "execution_count": 17,
   "metadata": {},
   "outputs": [],
   "source": [
    "# create a time frame for the rows we want to select\n",
    "mask = (calls_nocontact_simp['ticket_closed_date_time'] > '2017-1-1') & (calls_nocontact_simp['ticket_closed_date_time'] <= '2017-12-31')"
   ]
  },
  {
   "cell_type": "code",
   "execution_count": 18,
   "metadata": {},
   "outputs": [],
   "source": [
    "# create a new DataFrame using the time frame above to select rows from the whole DataFrame\n",
    "calls_nocontact_2017 = calls_nocontact_simp.loc[mask]"
   ]
  },
  {
   "cell_type": "code",
   "execution_count": 19,
   "metadata": {},
   "outputs": [
    {
     "data": {
      "text/plain": [
       "45710"
      ]
     },
     "execution_count": 19,
     "metadata": {},
     "output_type": "execute_result"
    }
   ],
   "source": [
    "# Check the number of rows in our final DataFrame\n",
    "len(calls_nocontact_2017)"
   ]
  },
  {
   "cell_type": "markdown",
   "metadata": {},
   "source": [
    "## Export to CSV"
   ]
  },
  {
   "cell_type": "code",
   "execution_count": null,
   "metadata": {},
   "outputs": [],
   "source": [
    "# save our final DataFrame as a CSV file\n",
    "calls_nocontact_2017.to_csv(\"311_calls_new.csv\")"
   ]
  },
  {
   "cell_type": "code",
   "execution_count": null,
   "metadata": {},
   "outputs": [],
   "source": []
  }
 ],
 "metadata": {
  "kernelspec": {
   "display_name": "Python 3",
   "language": "python",
   "name": "python3"
  },
  "language_info": {
   "codemirror_mode": {
    "name": "ipython",
    "version": 3
   },
   "file_extension": ".py",
   "mimetype": "text/x-python",
   "name": "python",
   "nbconvert_exporter": "python",
   "pygments_lexer": "ipython3",
   "version": "3.5.2"
  }
 },
 "nbformat": 4,
 "nbformat_minor": 2
}
